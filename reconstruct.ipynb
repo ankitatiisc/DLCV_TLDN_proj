{
 "cells": [
  {
   "cell_type": "code",
   "execution_count": null,
   "metadata": {
    "pycharm": {
     "name": "#%%\n"
    }
   },
   "outputs": [],
   "source": [
    "%matplotlib inline\n",
    "from run_dnerf import config_parser, create_nerf\n",
    "import torch\n",
    "from load_blender import pose_spherical\n",
    "from run_dnerf import render_path\n",
    "from run_dnerf_helpers import to8b\n",
    "import numpy as np\n",
    "import matplotlib.pyplot as plt\n",
    "import mcubes\n",
    "import trimesh"
   ]
  },
  {
   "cell_type": "code",
   "execution_count": null,
   "metadata": {},
   "outputs": [],
   "source": [
    "# set cuda\n",
    "torch.set_default_tensor_type('torch.cuda.FloatTensor')\n",
    "device = torch.device(\"cuda\" if torch.cuda.is_available() else \"cpu\")\n",
    "\n",
    "# get config file\n",
    "config_file = \"configs/sim_data.txt\"\n",
    "parser = config_parser()\n",
    "args = parser.parse_args(f'--config {config_file}')\n",
    "\n",
    "# set render params\n",
    "hwf = [400, 400, 555.555]\n",
    "_, render_kwargs_test, _, _, _ = create_nerf(args)\n",
    "render_kwargs_test.update({'near' : 2., 'far' : 6.})"
   ]
  },
  {
   "cell_type": "markdown",
   "metadata": {},
   "source": [
    "## Generate Debug Frame"
   ]
  },
  {
   "cell_type": "code",
   "execution_count": null,
   "metadata": {
    "pycharm": {
     "name": "#%%\n"
    }
   },
   "outputs": [],
   "source": [
    "def generate_img(time):\n",
    "    render_poses = torch.unsqueeze(pose_spherical(180, -20, 4.0), 0).to(device)\n",
    "    #render_poses = torch.unsqueeze(pose_spherical(135, -20, 4.0), 0).to(device)\n",
    "    render_times = torch.Tensor([time]).to(device)\n",
    "\n",
    "    with torch.no_grad():\n",
    "            rgbs, _ = render_path(render_poses, render_times, hwf, args.chunk, render_kwargs_test, render_factor=args.render_factor)\n",
    "    rgbs = to8b(rgbs)\n",
    "    return rgbs[0]"
   ]
  },
  {
   "cell_type": "code",
   "execution_count": null,
   "metadata": {},
   "outputs": [],
   "source": [
    "# genearte\n",
    "time = 0.0  # time in [0,1]\n",
    "img_0 = generate_img(time)\n",
    "\n",
    "# display\n",
    "plt.figure(2, figsize=(20,6))\n",
    "plt.imshow(img_0)\n",
    "plt.show()"
   ]
  },
  {
   "cell_type": "code",
   "execution_count": null,
   "metadata": {
    "pycharm": {
     "name": "#%%\n"
    }
   },
   "outputs": [],
   "source": [
    "# genearte\n",
    "time = .5  # time in [0,1]\n",
    "img = generate_img(time)\n",
    "\n",
    "# display\n",
    "plt.figure(2, figsize=(20,6))\n",
    "plt.imshow(img)\n",
    "plt.show()"
   ]
  },
  {
   "cell_type": "code",
   "execution_count": null,
   "metadata": {},
   "outputs": [],
   "source": [
    "import cv2\n",
    "def get_diff_image(a,b):\n",
    "    img_a = cv2.cvtColor(a, cv2.COLOR_BGR2GRAY)\n",
    "    img_b = cv2.cvtColor(b, cv2.COLOR_BGR2GRAY)\n",
    "    diff = np.abs(img_a - img_b)\n",
    "    return diff\n",
    "\n",
    "# display\n",
    "plt.figure(2, figsize=(20,6))\n",
    "plt.imshow(get_diff_image(img_0, img), cmap = 'hot' , interpolation = 'nearest' )\n",
    "plt.show()"
   ]
  },
  {
   "cell_type": "code",
   "execution_count": null,
   "metadata": {},
   "outputs": [],
   "source": [
    "save_dir = '/data3/ankit/results_simdata'"
   ]
  },
  {
   "cell_type": "code",
   "execution_count": null,
   "metadata": {},
   "outputs": [],
   "source": [
    "#Create video\n",
    "plt.close()\n",
    "import os\n",
    "import imageio\n",
    "\n",
    "prev = img_0.copy()\n",
    "\n",
    "if not os.path.exists(save_dir):\n",
    "    os.mkdir(save_dir)\n",
    "img_file_names = []\n",
    "diff_file_names = []\n",
    "for i in np.arange(0.,1.0,0.1):\n",
    "    img = generate_img(i)\n",
    "    f_path = os.path.join(save_dir, 'image_{}.png'.format(i))\n",
    "    plt.figure(2, figsize=(20,6))\n",
    "    plt.imshow(img)\n",
    "    plt.savefig(f_path)\n",
    "    plt.close()\n",
    "    img_file_names.append(f_path)\n",
    "    \n",
    "    f_path = os.path.join(save_dir, 'diff_image_{}.png'.format(i))\n",
    "    plt.figure(2, figsize=(20,6))\n",
    "    plt.imshow(get_diff_image(img, prev), cmap = 'hot' , interpolation = 'nearest' )\n",
    "    plt.savefig(f_path)\n",
    "    plt.close()\n",
    "    diff_file_names.append(f_path)\n",
    "    prev = img.copy()"
   ]
  },
  {
   "cell_type": "code",
   "execution_count": null,
   "metadata": {},
   "outputs": [],
   "source": [
    "import imageio\n",
    "def create_gif(gif_name, list_files):\n",
    "    with imageio.get_writer(os.path.join(save_dir,gif_name), mode='I') as writer:\n",
    "        for file_ in list_files:\n",
    "            image = imageio.imread(file_)\n",
    "            writer.append_data(image)\n",
    "\n",
    "print(len(img_file_names))\n",
    "print(len(diff_file_names))\n",
    "create_gif('hw_images.gif', img_file_names)\n",
    "create_gif('hw_diff.gif', diff_file_names)"
   ]
  },
  {
   "cell_type": "code",
   "execution_count": null,
   "metadata": {},
   "outputs": [],
   "source": [
    "input_dir = '/data3/ankit/Experiments/NERF/D-NeRF/sim_data'\n",
    "file_lists = []\n",
    "for i in range(51):\n",
    "    file_lists.append(os.path.join(input_dir, 'image_{}.png'.format(i)))\n",
    "create_gif('input_images.gif', file_lists)"
   ]
  },
  {
   "cell_type": "markdown",
   "metadata": {},
   "source": [
    "## Reconstruct"
   ]
  },
  {
   "cell_type": "code",
   "execution_count": null,
   "metadata": {},
   "outputs": [],
   "source": [
    "N = 256\n",
    "min_rec, max_rec = -1.2, 1.2\n",
    "t = np.linspace(min_rec, max_rec, N+1)\n",
    "\n",
    "query_pts = np.stack(np.meshgrid(t, t, t), -1).astype(np.float32)\n",
    "sh = query_pts.shape\n",
    "pts = torch.Tensor(query_pts.reshape([-1,3]))\n",
    "\n",
    "\n",
    "def batchify(fn, chunk):\n",
    "    if chunk is None:\n",
    "        return fn\n",
    "    def ret(inputs):\n",
    "        return torch.concat([fn(inputs[i:i+chunk]) for i in range(0, inputs.shape[0], chunk)], 0)\n",
    "    return ret\n",
    "\n",
    "def reconstruct(points, time):\n",
    "    net_fn = render_kwargs_test['network_query_fn']\n",
    "    fn = lambda i0, i1 : net_fn(points[i0:i1,None,:], viewdirs=torch.zeros_like(points[i0:i1]), ts=torch.ones_like(points[i0:i1])[:,0:1]*time, network_fn=render_kwargs_test['network_fn'])\n",
    "    chunk = 1024*64\n",
    "    raw = np.concatenate([fn(i, i+chunk)[0].cpu().numpy() for i in range(0, points.shape[0], chunk)], 0)\n",
    "    raw = np.reshape(raw, list(sh[:-1]) + [-1])\n",
    "    sigma = np.maximum(raw[...,-1], 0.)\n",
    "    return sigma\n",
    "    \n",
    "with torch.no_grad():\n",
    "    sigma = reconstruct(pts, time)"
   ]
  },
  {
   "cell_type": "code",
   "execution_count": null,
   "metadata": {
    "pycharm": {
     "name": "#%%\n"
    }
   },
   "outputs": [],
   "source": [
    "# reconstruct\n",
    "threshold = 40  # this is just a randomly found threshold\n",
    "vertices, triangles = mcubes.marching_cubes(sigma, threshold)\n",
    "\n",
    "# display\n",
    "mesh = trimesh.Trimesh(vertices / N * (max_rec - min_rec) + min_rec , triangles)\n",
    "mesh = trimesh.smoothing.filter_laplacian(mesh, iterations=3)\n",
    "mesh.show()"
   ]
  }
 ],
 "metadata": {
  "interpreter": {
   "hash": "34390c6806abb2e4e723d1fb2f53ddf99c8dde547ca2e9f88d55bf55127c3c45"
  },
  "kernelspec": {
   "display_name": "nerf",
   "language": "python",
   "name": "python3"
  },
  "language_info": {
   "codemirror_mode": {
    "name": "ipython",
    "version": 3
   },
   "file_extension": ".py",
   "mimetype": "text/x-python",
   "name": "python",
   "nbconvert_exporter": "python",
   "pygments_lexer": "ipython3",
   "version": "3.6.13"
  }
 },
 "nbformat": 4,
 "nbformat_minor": 1
}
